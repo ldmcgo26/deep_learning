{
 "cells": [
  {
   "metadata": {},
   "cell_type": "markdown",
   "source": "*Important Note:* This file is for downloading VisDrone data remotely from DropBox urls. It is designed to be run in your local environment (i.e. NOT Colab).",
   "id": "59a9d9350d104321"
  },
  {
   "metadata": {
    "ExecuteTime": {
     "end_time": "2025-05-18T20:22:07.475655Z",
     "start_time": "2025-05-18T20:22:07.470228Z"
    }
   },
   "cell_type": "code",
   "source": [
    "import os\n",
    "import zipfile\n",
    "import urllib.request\n",
    "import shutil\n",
    "\n",
    "# Create directory to store the data if none exists\n",
    "project_root = os.path.abspath(os.path.join(os.getcwd(), \"..\"))\n",
    "dataset_dir = os.path.join(project_root, \"data\")\n",
    "os.makedirs(dataset_dir, exist_ok=True)\n",
    "\n",
    "def download_dataset(url, output_zip, extract_dir=None):\n",
    "    \"\"\"\n",
    "    Downloads a file from a Dropbox URL and extracts it if it's a zip file.\n",
    "\n",
    "    Args:\n",
    "        url (str): The Dropbox URL to download the file from\n",
    "        output_zip (str): The path where the downloaded file will be saved\n",
    "        extract_dir (str, optional): The directory to extract the zip file to.\n",
    "                                    If None, extracts to the same directory as the zip file.\n",
    "    \"\"\"\n",
    "    if not os.path.exists(output_zip):\n",
    "        print(f\"Downloading {output_zip}...\")\n",
    "        # Create directory if it doesn't exist\n",
    "        os.makedirs(os.path.dirname(output_zip), exist_ok=True)\n",
    "\n",
    "        # Download the file\n",
    "        with urllib.request.urlopen(url) as response, open(output_zip, 'wb') as out_file:\n",
    "            shutil.copyfileobj(response, out_file)\n",
    "    else:\n",
    "        print(\"ZIP file already exists, skipping download.\")\n",
    "\n",
    "    # Extract if it's a zip file\n",
    "    if output_zip.endswith('.zip'):\n",
    "        if extract_dir is None:\n",
    "            extract_dir = os.path.dirname(output_zip)\n",
    "\n",
    "        # Create extraction directory if it doesn't exist\n",
    "        os.makedirs(extract_dir, exist_ok=True)\n",
    "\n",
    "        with zipfile.ZipFile(output_zip, 'r') as zip_ref:\n",
    "            print(f\"Extracting {output_zip} to {extract_dir}...\")\n",
    "            zip_ref.extractall(extract_dir)\n",
    "\n",
    "    print(f\"Dataset {output_zip} processing complete.\")\n",
    "\n",
    "dropbox_url = \"https://www.dropbox.com/scl/fi/yuim21nvv96pdmetf43mu/VisDrone2019-DET-test-dev.zip?rlkey=m4htjb3wjdvjukshn3inh9s7d&st=ajdims0w&dl=1\"\n",
    "zip_path = os.path.join(dataset_dir, \"VisDrone2019-DET-test-dev.zip\")\n",
    "extract_dir = os.path.join(dataset_dir, \"VisDrone2019-DET-test-dev\")\n",
    "\n",
    "dropbox_url_train = \"https://www.dropbox.com/scl/fi/xyjppciooyq0juffv0g6y/VisDrone2019-DET-train.zip?rlkey=y5hnuo2imr1we88xzvndmkzct&st=6exf6hz8&dl=1\"\n",
    "dropbox_url_val = \"https://www.dropbox.com/scl/fi/op5lfc9g1eqjx0hmz5k66/VisDrone2019-DET-val.zip?rlkey=06rpa2gcfdzw1dc8vud39bypr&st=v1ndh3zz&dl=1\"\n",
    "dropbox_url_test = \"https://www.dropbox.com/scl/fi/yuim21nvv96pdmetf43mu/VisDrone2019-DET-test-dev.zip?rlkey=m4htjb3wjdvjukshn3inh9s7d&st=ajdims0w&dl=1\"\n",
    "\n",
    "zip_path_train = os.path.join(dataset_dir, \"VisDrone2019-DET-train.zip\")\n",
    "zip_path_val = os.path.join(dataset_dir, \"VisDrone2019-DET-val.zip\")\n",
    "zip_path_test = os.path.join(dataset_dir, \"VisDrone2019-DET-test-dev.zip\")\n",
    "\n",
    "extract_dir_train = os.path.join(dataset_dir, \"VisDrone2019-DET-train\")\n",
    "extract_dir_val = os.path.join(dataset_dir, \"VisDrone2019-DET-val\")\n",
    "extract_dir_test = os.path.join(dataset_dir, \"VisDrone2019-DET-test-dev\")"
   ],
   "id": "a1b07c002b2891ac",
   "outputs": [],
   "execution_count": 7
  },
  {
   "metadata": {
    "ExecuteTime": {
     "end_time": "2025-05-18T20:24:02.380925Z",
     "start_time": "2025-05-18T20:22:18.296162Z"
    }
   },
   "cell_type": "code",
   "source": [
    "# Download and extract the training dataset\n",
    "download_dataset(dropbox_url_train, zip_path_train, extract_dir_train)"
   ],
   "id": "99a43450a22ef784",
   "outputs": [
    {
     "name": "stdout",
     "output_type": "stream",
     "text": [
      "Downloading /Users/aidan/Documents/Courses/Deep Learning/deep_learning/data/VisDrone2019-DET-train.zip...\n",
      "Extracting /Users/aidan/Documents/Courses/Deep Learning/deep_learning/data/VisDrone2019-DET-train.zip to /Users/aidan/Documents/Courses/Deep Learning/deep_learning/data/VisDrone2019-DET-train...\n",
      "Dataset /Users/aidan/Documents/Courses/Deep Learning/deep_learning/data/VisDrone2019-DET-train.zip processing complete.\n"
     ]
    }
   ],
   "execution_count": 8
  },
  {
   "metadata": {
    "ExecuteTime": {
     "end_time": "2025-05-18T20:24:12.210423Z",
     "start_time": "2025-05-18T20:24:02.392847Z"
    }
   },
   "cell_type": "code",
   "source": [
    "# Download and extract the validation dataset\n",
    "download_dataset(dropbox_url_val, zip_path_val, extract_dir_val)"
   ],
   "id": "888a61148e7b4ea5",
   "outputs": [
    {
     "name": "stdout",
     "output_type": "stream",
     "text": [
      "Downloading /Users/aidan/Documents/Courses/Deep Learning/deep_learning/data/VisDrone2019-DET-val.zip...\n",
      "Extracting /Users/aidan/Documents/Courses/Deep Learning/deep_learning/data/VisDrone2019-DET-val.zip to /Users/aidan/Documents/Courses/Deep Learning/deep_learning/data/VisDrone2019-DET-val...\n",
      "Dataset /Users/aidan/Documents/Courses/Deep Learning/deep_learning/data/VisDrone2019-DET-val.zip processing complete.\n"
     ]
    }
   ],
   "execution_count": 9
  },
  {
   "metadata": {
    "ExecuteTime": {
     "end_time": "2025-05-18T20:24:36.466045Z",
     "start_time": "2025-05-18T20:24:12.220665Z"
    }
   },
   "cell_type": "code",
   "source": [
    "# Download and extract the testing dataset\n",
    "download_dataset(dropbox_url_test, zip_path_test, extract_dir_test)"
   ],
   "id": "9bcff60b78320df",
   "outputs": [
    {
     "name": "stdout",
     "output_type": "stream",
     "text": [
      "Downloading /Users/aidan/Documents/Courses/Deep Learning/deep_learning/data/VisDrone2019-DET-test-dev.zip...\n",
      "Extracting /Users/aidan/Documents/Courses/Deep Learning/deep_learning/data/VisDrone2019-DET-test-dev.zip to /Users/aidan/Documents/Courses/Deep Learning/deep_learning/data/VisDrone2019-DET-test-dev...\n",
      "Dataset /Users/aidan/Documents/Courses/Deep Learning/deep_learning/data/VisDrone2019-DET-test-dev.zip processing complete.\n"
     ]
    }
   ],
   "execution_count": 10
  }
 ],
 "metadata": {
  "kernelspec": {
   "display_name": "Python 3",
   "language": "python",
   "name": "python3"
  },
  "language_info": {
   "codemirror_mode": {
    "name": "ipython",
    "version": 2
   },
   "file_extension": ".py",
   "mimetype": "text/x-python",
   "name": "python",
   "nbconvert_exporter": "python",
   "pygments_lexer": "ipython2",
   "version": "2.7.6"
  }
 },
 "nbformat": 4,
 "nbformat_minor": 5
}
