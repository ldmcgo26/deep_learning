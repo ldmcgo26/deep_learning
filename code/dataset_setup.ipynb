{
 "cells": [
  {
   "metadata": {
    "ExecuteTime": {
     "end_time": "2025-04-25T02:01:18.483210Z",
     "start_time": "2025-04-25T02:01:18.478351Z"
    }
   },
   "cell_type": "code",
   "source": [
    "import os\n",
    "import zipfile\n",
    "import urllib.request\n",
    "import shutil\n",
    "\n",
    "# Create directory to store the data if none exists\n",
    "project_root = os.path.abspath(os.path.join(os.getcwd(), \"..\"))\n",
    "dataset_dir = os.path.join(project_root, \"data\")\n",
    "os.makedirs(dataset_dir, exist_ok=True)\n",
    "\n",
    "def download_dataset(url, output_zip, extract_dir=None):\n",
    "    \"\"\"\n",
    "    Downloads a file from a Dropbox URL and extracts it if it's a zip file.\n",
    "\n",
    "    Args:\n",
    "        url (str): The Dropbox URL to download the file from\n",
    "        output_zip (str): The path where the downloaded file will be saved\n",
    "        extract_dir (str, optional): The directory to extract the zip file to.\n",
    "                                    If None, extracts to the same directory as the zip file.\n",
    "    \"\"\"\n",
    "    if not os.path.exists(output_zip):\n",
    "        print(f\"Downloading {output_zip}...\")\n",
    "        # Create directory if it doesn't exist\n",
    "        os.makedirs(os.path.dirname(output_zip), exist_ok=True)\n",
    "\n",
    "        # Download the file\n",
    "        with urllib.request.urlopen(url) as response, open(output_zip, 'wb') as out_file:\n",
    "            shutil.copyfileobj(response, out_file)\n",
    "    else:\n",
    "        print(\"ZIP file already exists, skipping download.\")\n",
    "\n",
    "    # Extract if it's a zip file\n",
    "    if output_zip.endswith('.zip'):\n",
    "        if extract_dir is None:\n",
    "            extract_dir = os.path.dirname(output_zip)\n",
    "\n",
    "        # Create extraction directory if it doesn't exist\n",
    "        os.makedirs(extract_dir, exist_ok=True)\n",
    "\n",
    "        with zipfile.ZipFile(output_zip, 'r') as zip_ref:\n",
    "            print(f\"Extracting {output_zip} to {extract_dir}...\")\n",
    "            zip_ref.extractall(extract_dir)\n",
    "\n",
    "    print(f\"Dataset {output_zip} processing complete.\")\n",
    "\n",
    "dropbox_url = \"https://www.dropbox.com/scl/fi/yuim21nvv96pdmetf43mu/VisDrone2019-DET-test-dev.zip?rlkey=m4htjb3wjdvjukshn3inh9s7d&st=ajdims0w&dl=1\"\n",
    "zip_path = os.path.join(dataset_dir, \"VisDrone2019-DET-test-dev.zip\")\n",
    "extract_dir = os.path.join(dataset_dir, \"VisDrone2019-DET-test-dev\")\n",
    "\n",
    "dropbox_url_train = \"https://www.dropbox.com/scl/fi/xyjppciooyq0juffv0g6y/VisDrone2019-DET-train.zip?rlkey=y5hnuo2imr1we88xzvndmkzct&st=6exf6hz8&dl=1\"\n",
    "dropbox_url_val = \"https://www.dropbox.com/scl/fi/op5lfc9g1eqjx0hmz5k66/VisDrone2019-DET-val.zip?rlkey=06rpa2gcfdzw1dc8vud39bypr&st=v1ndh3zz&dl=1\"\n",
    "dropbox_url_test = \"https://www.dropbox.com/scl/fi/yuim21nvv96pdmetf43mu/VisDrone2019-DET-test-dev.zip?rlkey=m4htjb3wjdvjukshn3inh9s7d&st=ajdims0w&dl=1\"\n",
    "\n",
    "zip_path_train = os.path.join(dataset_dir, \"VisDrone2019-DET-train.zip\")\n",
    "zip_path_val = os.path.join(dataset_dir, \"VisDrone2019-DET-val.zip\")\n",
    "zip_path_test = os.path.join(dataset_dir, \"VisDrone2019-DET-test-dev.zip\")\n",
    "\n",
    "extract_dir_train = os.path.join(dataset_dir, \"VisDrone2019-DET-train\")\n",
    "extract_dir_val = os.path.join(dataset_dir, \"VisDrone2019-DET-val\")\n",
    "extract_dir_test = os.path.join(dataset_dir, \"VisDrone2019-DET-test-dev\")"
   ],
   "id": "a1b07c002b2891ac",
   "outputs": [],
   "execution_count": 5
  },
  {
   "metadata": {
    "ExecuteTime": {
     "end_time": "2025-04-25T02:27:45.000441Z",
     "start_time": "2025-04-25T02:11:11.582325Z"
    }
   },
   "cell_type": "code",
   "source": [
    "# Download and extract the training dataset\n",
    "download_dataset(dropbox_url_train, zip_path_train, extract_dir_train)"
   ],
   "id": "99a43450a22ef784",
   "outputs": [
    {
     "name": "stdout",
     "output_type": "stream",
     "text": [
      "Downloading /Users/aidan/Documents/Courses/Deep Learning/deep_learning/data/VisDrone2019-DET-train.zip...\n"
     ]
    },
    {
     "ename": "KeyboardInterrupt",
     "evalue": "",
     "output_type": "error",
     "traceback": [
      "\u001B[31m---------------------------------------------------------------------------\u001B[39m",
      "\u001B[31mKeyboardInterrupt\u001B[39m                         Traceback (most recent call last)",
      "\u001B[36mCell\u001B[39m\u001B[36m \u001B[39m\u001B[32mIn[8]\u001B[39m\u001B[32m, line 2\u001B[39m\n\u001B[32m      1\u001B[39m \u001B[38;5;66;03m# Download and extract the training dataset\u001B[39;00m\n\u001B[32m----> \u001B[39m\u001B[32m2\u001B[39m \u001B[43mdownload_dataset\u001B[49m\u001B[43m(\u001B[49m\u001B[43mdropbox_url_train\u001B[49m\u001B[43m,\u001B[49m\u001B[43m \u001B[49m\u001B[43mzip_path_train\u001B[49m\u001B[43m,\u001B[49m\u001B[43m \u001B[49m\u001B[43mextract_dir_train\u001B[49m\u001B[43m)\u001B[49m\n",
      "\u001B[36mCell\u001B[39m\u001B[36m \u001B[39m\u001B[32mIn[5]\u001B[39m\u001B[32m, line 28\u001B[39m, in \u001B[36mdownload_dataset\u001B[39m\u001B[34m(url, output_zip, extract_dir)\u001B[39m\n\u001B[32m     26\u001B[39m     \u001B[38;5;66;03m# Download the file\u001B[39;00m\n\u001B[32m     27\u001B[39m     \u001B[38;5;28;01mwith\u001B[39;00m urllib.request.urlopen(url) \u001B[38;5;28;01mas\u001B[39;00m response, \u001B[38;5;28mopen\u001B[39m(output_zip, \u001B[33m'\u001B[39m\u001B[33mwb\u001B[39m\u001B[33m'\u001B[39m) \u001B[38;5;28;01mas\u001B[39;00m out_file:\n\u001B[32m---> \u001B[39m\u001B[32m28\u001B[39m         \u001B[43mshutil\u001B[49m\u001B[43m.\u001B[49m\u001B[43mcopyfileobj\u001B[49m\u001B[43m(\u001B[49m\u001B[43mresponse\u001B[49m\u001B[43m,\u001B[49m\u001B[43m \u001B[49m\u001B[43mout_file\u001B[49m\u001B[43m)\u001B[49m\n\u001B[32m     29\u001B[39m \u001B[38;5;28;01melse\u001B[39;00m:\n\u001B[32m     30\u001B[39m     \u001B[38;5;28mprint\u001B[39m(\u001B[33m\"\u001B[39m\u001B[33mZIP file already exists, skipping download.\u001B[39m\u001B[33m\"\u001B[39m)\n",
      "\u001B[36mFile \u001B[39m\u001B[32m/Library/Frameworks/Python.framework/Versions/3.12/lib/python3.12/shutil.py:203\u001B[39m, in \u001B[36mcopyfileobj\u001B[39m\u001B[34m(fsrc, fdst, length)\u001B[39m\n\u001B[32m    201\u001B[39m fsrc_read = fsrc.read\n\u001B[32m    202\u001B[39m fdst_write = fdst.write\n\u001B[32m--> \u001B[39m\u001B[32m203\u001B[39m \u001B[38;5;28;01mwhile\u001B[39;00m buf := \u001B[43mfsrc_read\u001B[49m\u001B[43m(\u001B[49m\u001B[43mlength\u001B[49m\u001B[43m)\u001B[49m:\n\u001B[32m    204\u001B[39m     fdst_write(buf)\n",
      "\u001B[36mFile \u001B[39m\u001B[32m/Library/Frameworks/Python.framework/Versions/3.12/lib/python3.12/http/client.py:479\u001B[39m, in \u001B[36mHTTPResponse.read\u001B[39m\u001B[34m(self, amt)\u001B[39m\n\u001B[32m    476\u001B[39m \u001B[38;5;28;01mif\u001B[39;00m \u001B[38;5;28mself\u001B[39m.length \u001B[38;5;129;01mis\u001B[39;00m \u001B[38;5;129;01mnot\u001B[39;00m \u001B[38;5;28;01mNone\u001B[39;00m \u001B[38;5;129;01mand\u001B[39;00m amt > \u001B[38;5;28mself\u001B[39m.length:\n\u001B[32m    477\u001B[39m     \u001B[38;5;66;03m# clip the read to the \"end of response\"\u001B[39;00m\n\u001B[32m    478\u001B[39m     amt = \u001B[38;5;28mself\u001B[39m.length\n\u001B[32m--> \u001B[39m\u001B[32m479\u001B[39m s = \u001B[38;5;28;43mself\u001B[39;49m\u001B[43m.\u001B[49m\u001B[43mfp\u001B[49m\u001B[43m.\u001B[49m\u001B[43mread\u001B[49m\u001B[43m(\u001B[49m\u001B[43mamt\u001B[49m\u001B[43m)\u001B[49m\n\u001B[32m    480\u001B[39m \u001B[38;5;28;01mif\u001B[39;00m \u001B[38;5;129;01mnot\u001B[39;00m s \u001B[38;5;129;01mand\u001B[39;00m amt:\n\u001B[32m    481\u001B[39m     \u001B[38;5;66;03m# Ideally, we would raise IncompleteRead if the content-length\u001B[39;00m\n\u001B[32m    482\u001B[39m     \u001B[38;5;66;03m# wasn't satisfied, but it might break compatibility.\u001B[39;00m\n\u001B[32m    483\u001B[39m     \u001B[38;5;28mself\u001B[39m._close_conn()\n",
      "\u001B[36mFile \u001B[39m\u001B[32m/Library/Frameworks/Python.framework/Versions/3.12/lib/python3.12/socket.py:707\u001B[39m, in \u001B[36mSocketIO.readinto\u001B[39m\u001B[34m(self, b)\u001B[39m\n\u001B[32m    705\u001B[39m \u001B[38;5;28;01mwhile\u001B[39;00m \u001B[38;5;28;01mTrue\u001B[39;00m:\n\u001B[32m    706\u001B[39m     \u001B[38;5;28;01mtry\u001B[39;00m:\n\u001B[32m--> \u001B[39m\u001B[32m707\u001B[39m         \u001B[38;5;28;01mreturn\u001B[39;00m \u001B[38;5;28;43mself\u001B[39;49m\u001B[43m.\u001B[49m\u001B[43m_sock\u001B[49m\u001B[43m.\u001B[49m\u001B[43mrecv_into\u001B[49m\u001B[43m(\u001B[49m\u001B[43mb\u001B[49m\u001B[43m)\u001B[49m\n\u001B[32m    708\u001B[39m     \u001B[38;5;28;01mexcept\u001B[39;00m timeout:\n\u001B[32m    709\u001B[39m         \u001B[38;5;28mself\u001B[39m._timeout_occurred = \u001B[38;5;28;01mTrue\u001B[39;00m\n",
      "\u001B[36mFile \u001B[39m\u001B[32m/Library/Frameworks/Python.framework/Versions/3.12/lib/python3.12/ssl.py:1252\u001B[39m, in \u001B[36mSSLSocket.recv_into\u001B[39m\u001B[34m(self, buffer, nbytes, flags)\u001B[39m\n\u001B[32m   1248\u001B[39m     \u001B[38;5;28;01mif\u001B[39;00m flags != \u001B[32m0\u001B[39m:\n\u001B[32m   1249\u001B[39m         \u001B[38;5;28;01mraise\u001B[39;00m \u001B[38;5;167;01mValueError\u001B[39;00m(\n\u001B[32m   1250\u001B[39m           \u001B[33m\"\u001B[39m\u001B[33mnon-zero flags not allowed in calls to recv_into() on \u001B[39m\u001B[38;5;132;01m%s\u001B[39;00m\u001B[33m\"\u001B[39m %\n\u001B[32m   1251\u001B[39m           \u001B[38;5;28mself\u001B[39m.\u001B[34m__class__\u001B[39m)\n\u001B[32m-> \u001B[39m\u001B[32m1252\u001B[39m     \u001B[38;5;28;01mreturn\u001B[39;00m \u001B[38;5;28;43mself\u001B[39;49m\u001B[43m.\u001B[49m\u001B[43mread\u001B[49m\u001B[43m(\u001B[49m\u001B[43mnbytes\u001B[49m\u001B[43m,\u001B[49m\u001B[43m \u001B[49m\u001B[43mbuffer\u001B[49m\u001B[43m)\u001B[49m\n\u001B[32m   1253\u001B[39m \u001B[38;5;28;01melse\u001B[39;00m:\n\u001B[32m   1254\u001B[39m     \u001B[38;5;28;01mreturn\u001B[39;00m \u001B[38;5;28msuper\u001B[39m().recv_into(buffer, nbytes, flags)\n",
      "\u001B[36mFile \u001B[39m\u001B[32m/Library/Frameworks/Python.framework/Versions/3.12/lib/python3.12/ssl.py:1104\u001B[39m, in \u001B[36mSSLSocket.read\u001B[39m\u001B[34m(self, len, buffer)\u001B[39m\n\u001B[32m   1102\u001B[39m \u001B[38;5;28;01mtry\u001B[39;00m:\n\u001B[32m   1103\u001B[39m     \u001B[38;5;28;01mif\u001B[39;00m buffer \u001B[38;5;129;01mis\u001B[39;00m \u001B[38;5;129;01mnot\u001B[39;00m \u001B[38;5;28;01mNone\u001B[39;00m:\n\u001B[32m-> \u001B[39m\u001B[32m1104\u001B[39m         \u001B[38;5;28;01mreturn\u001B[39;00m \u001B[38;5;28;43mself\u001B[39;49m\u001B[43m.\u001B[49m\u001B[43m_sslobj\u001B[49m\u001B[43m.\u001B[49m\u001B[43mread\u001B[49m\u001B[43m(\u001B[49m\u001B[38;5;28;43mlen\u001B[39;49m\u001B[43m,\u001B[49m\u001B[43m \u001B[49m\u001B[43mbuffer\u001B[49m\u001B[43m)\u001B[49m\n\u001B[32m   1105\u001B[39m     \u001B[38;5;28;01melse\u001B[39;00m:\n\u001B[32m   1106\u001B[39m         \u001B[38;5;28;01mreturn\u001B[39;00m \u001B[38;5;28mself\u001B[39m._sslobj.read(\u001B[38;5;28mlen\u001B[39m)\n",
      "\u001B[31mKeyboardInterrupt\u001B[39m: "
     ]
    }
   ],
   "execution_count": 8
  },
  {
   "metadata": {
    "ExecuteTime": {
     "end_time": "2025-04-25T02:08:22.270763Z",
     "start_time": "2025-04-25T02:08:09.391210Z"
    }
   },
   "cell_type": "code",
   "source": [
    "# Download and extract the validation dataset\n",
    "download_dataset(dropbox_url_val, zip_path_val, extract_dir_val)"
   ],
   "id": "888a61148e7b4ea5",
   "outputs": [
    {
     "name": "stdout",
     "output_type": "stream",
     "text": [
      "Downloading /Users/aidan/Documents/Courses/Deep Learning/deep_learning/data/VisDrone2019-DET-val.zip...\n",
      "Extracting /Users/aidan/Documents/Courses/Deep Learning/deep_learning/data/VisDrone2019-DET-val.zip to /Users/aidan/Documents/Courses/Deep Learning/deep_learning/data/VisDrone2019-DET-val...\n",
      "Dataset /Users/aidan/Documents/Courses/Deep Learning/deep_learning/data/VisDrone2019-DET-val.zip processing complete.\n"
     ]
    }
   ],
   "execution_count": 7
  },
  {
   "metadata": {
    "ExecuteTime": {
     "end_time": "2025-04-25T02:03:38.732856Z",
     "start_time": "2025-04-25T02:01:50.790160Z"
    }
   },
   "cell_type": "code",
   "source": [
    "# Download and extract the testing dataset\n",
    "download_dataset(dropbox_url_test, zip_path_test, extract_dir_test)"
   ],
   "id": "9bcff60b78320df",
   "outputs": [
    {
     "name": "stdout",
     "output_type": "stream",
     "text": [
      "Downloading /Users/aidan/Documents/Courses/Deep Learning/deep_learning/data/VisDrone2019-DET-test-dev.zip...\n",
      "Extracting /Users/aidan/Documents/Courses/Deep Learning/deep_learning/data/VisDrone2019-DET-test-dev.zip to /Users/aidan/Documents/Courses/Deep Learning/deep_learning/data/VisDrone2019-DET-test-dev...\n",
      "Dataset /Users/aidan/Documents/Courses/Deep Learning/deep_learning/data/VisDrone2019-DET-test-dev.zip processing complete.\n"
     ]
    }
   ],
   "execution_count": 6
  }
 ],
 "metadata": {
  "kernelspec": {
   "display_name": "Python 3",
   "language": "python",
   "name": "python3"
  },
  "language_info": {
   "codemirror_mode": {
    "name": "ipython",
    "version": 2
   },
   "file_extension": ".py",
   "mimetype": "text/x-python",
   "name": "python",
   "nbconvert_exporter": "python",
   "pygments_lexer": "ipython2",
   "version": "2.7.6"
  }
 },
 "nbformat": 4,
 "nbformat_minor": 5
}
