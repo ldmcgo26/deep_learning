{
 "cells": [
  {
   "metadata": {
    "ExecuteTime": {
     "end_time": "2025-04-23T23:08:45.739327Z",
     "start_time": "2025-04-23T23:08:45.657685Z"
    }
   },
   "cell_type": "code",
   "source": [
    "import os\n",
    "import zipfile\n",
    "import gdown\n",
    "\n",
    "dataset_dir = \"data\"\n",
    "os.makedirs(dataset_dir, exist_ok=True)\n",
    "\n",
    "def download_dataset(file_id, output_zip):\n",
    "    if not os.path.exists(output_zip):\n",
    "        print(f\"Downloading {output_zip}...\")\n",
    "        gdown.download(id=file_id, output=output_zip, quiet=False)\n",
    "    else:\n",
    "        print(\"ZIP file already exists, skipping download.\")\n",
    "\n",
    "    with zipfile.ZipFile(output_zip, 'r') as zip_ref:\n",
    "        print(\"Extracting ZIP file...\")\n",
    "        zip_ref.extractall(dataset_dir)\n",
    "\n",
    "    print(f\"Dataset {output_zip} dump complete.\")"
   ],
   "id": "2662e96f07b05301",
   "outputs": [],
   "execution_count": 1
  },
  {
   "metadata": {
    "ExecuteTime": {
     "end_time": "2025-04-23T23:08:56.146066Z",
     "start_time": "2025-04-23T23:08:53.706389Z"
    }
   },
   "cell_type": "code",
   "source": [
    "file_id_train = \"1a2oHjcEcwXP8oUF95qiwrqzACb2YlUhn\"\n",
    "output_zip_train = os.path.join(dataset_dir, \"VisDrone2019-DET-train.zip\")\n",
    "download_dataset(file_id_train, output_zip_train)"
   ],
   "id": "fca055ab1bee1aa2",
   "outputs": [
    {
     "name": "stdout",
     "output_type": "stream",
     "text": [
      "Downloading data/VisDrone2019-DET-train.zip...\n"
     ]
    },
    {
     "ename": "FileURLRetrievalError",
     "evalue": "Failed to retrieve file url:\n\n\tToo many users have viewed or downloaded this file recently. Please\n\ttry accessing the file again later. If the file you are trying to\n\taccess is particularly large or is shared with many people, it may\n\ttake up to 24 hours to be able to view or download the file. If you\n\tstill can't access a file after 24 hours, contact your domain\n\tadministrator.\n\nYou may still be able to access the file from the browser:\n\n\thttps://drive.google.com/uc?id=1a2oHjcEcwXP8oUF95qiwrqzACb2YlUhn\n\nbut Gdown can't. Please check connections and permissions.",
     "output_type": "error",
     "traceback": [
      "\u001B[31m---------------------------------------------------------------------------\u001B[39m",
      "\u001B[31mFileURLRetrievalError\u001B[39m                     Traceback (most recent call last)",
      "\u001B[36mFile \u001B[39m\u001B[32m~/wizard/lib/python3.12/site-packages/gdown/download.py:267\u001B[39m, in \u001B[36mdownload\u001B[39m\u001B[34m(url, output, quiet, proxy, speed, use_cookies, verify, id, fuzzy, resume, format, user_agent, log_messages)\u001B[39m\n\u001B[32m    266\u001B[39m \u001B[38;5;28;01mtry\u001B[39;00m:\n\u001B[32m--> \u001B[39m\u001B[32m267\u001B[39m     url = \u001B[43mget_url_from_gdrive_confirmation\u001B[49m\u001B[43m(\u001B[49m\u001B[43mres\u001B[49m\u001B[43m.\u001B[49m\u001B[43mtext\u001B[49m\u001B[43m)\u001B[49m\n\u001B[32m    268\u001B[39m \u001B[38;5;28;01mexcept\u001B[39;00m FileURLRetrievalError \u001B[38;5;28;01mas\u001B[39;00m e:\n",
      "\u001B[36mFile \u001B[39m\u001B[32m~/wizard/lib/python3.12/site-packages/gdown/download.py:53\u001B[39m, in \u001B[36mget_url_from_gdrive_confirmation\u001B[39m\u001B[34m(contents)\u001B[39m\n\u001B[32m     52\u001B[39m         error = m.groups()[\u001B[32m0\u001B[39m]\n\u001B[32m---> \u001B[39m\u001B[32m53\u001B[39m         \u001B[38;5;28;01mraise\u001B[39;00m FileURLRetrievalError(error)\n\u001B[32m     54\u001B[39m \u001B[38;5;28;01mif\u001B[39;00m \u001B[38;5;129;01mnot\u001B[39;00m url:\n",
      "\u001B[31mFileURLRetrievalError\u001B[39m: Too many users have viewed or downloaded this file recently. Please try accessing the file again later. If the file you are trying to access is particularly large or is shared with many people, it may take up to 24 hours to be able to view or download the file. If you still can't access a file after 24 hours, contact your domain administrator.",
      "\nDuring handling of the above exception, another exception occurred:\n",
      "\u001B[31mFileURLRetrievalError\u001B[39m                     Traceback (most recent call last)",
      "\u001B[36mCell\u001B[39m\u001B[36m \u001B[39m\u001B[32mIn[2]\u001B[39m\u001B[32m, line 3\u001B[39m\n\u001B[32m      1\u001B[39m file_id_train = \u001B[33m\"\u001B[39m\u001B[33m1a2oHjcEcwXP8oUF95qiwrqzACb2YlUhn\u001B[39m\u001B[33m\"\u001B[39m\n\u001B[32m      2\u001B[39m output_zip_train = os.path.join(dataset_dir, \u001B[33m\"\u001B[39m\u001B[33mVisDrone2019-DET-train.zip\u001B[39m\u001B[33m\"\u001B[39m)\n\u001B[32m----> \u001B[39m\u001B[32m3\u001B[39m \u001B[43mdownload_dataset\u001B[49m\u001B[43m(\u001B[49m\u001B[43mfile_id_train\u001B[49m\u001B[43m,\u001B[49m\u001B[43m \u001B[49m\u001B[43moutput_zip_train\u001B[49m\u001B[43m)\u001B[49m\n",
      "\u001B[36mCell\u001B[39m\u001B[36m \u001B[39m\u001B[32mIn[1]\u001B[39m\u001B[32m, line 11\u001B[39m, in \u001B[36mdownload_dataset\u001B[39m\u001B[34m(file_id, output_zip)\u001B[39m\n\u001B[32m      9\u001B[39m \u001B[38;5;28;01mif\u001B[39;00m \u001B[38;5;129;01mnot\u001B[39;00m os.path.exists(output_zip):\n\u001B[32m     10\u001B[39m     \u001B[38;5;28mprint\u001B[39m(\u001B[33mf\u001B[39m\u001B[33m\"\u001B[39m\u001B[33mDownloading \u001B[39m\u001B[38;5;132;01m{\u001B[39;00moutput_zip\u001B[38;5;132;01m}\u001B[39;00m\u001B[33m...\u001B[39m\u001B[33m\"\u001B[39m)\n\u001B[32m---> \u001B[39m\u001B[32m11\u001B[39m     \u001B[43mgdown\u001B[49m\u001B[43m.\u001B[49m\u001B[43mdownload\u001B[49m\u001B[43m(\u001B[49m\u001B[38;5;28;43mid\u001B[39;49m\u001B[43m=\u001B[49m\u001B[43mfile_id\u001B[49m\u001B[43m,\u001B[49m\u001B[43m \u001B[49m\u001B[43moutput\u001B[49m\u001B[43m=\u001B[49m\u001B[43moutput_zip\u001B[49m\u001B[43m,\u001B[49m\u001B[43m \u001B[49m\u001B[43mquiet\u001B[49m\u001B[43m=\u001B[49m\u001B[38;5;28;43;01mFalse\u001B[39;49;00m\u001B[43m)\u001B[49m\n\u001B[32m     12\u001B[39m \u001B[38;5;28;01melse\u001B[39;00m:\n\u001B[32m     13\u001B[39m     \u001B[38;5;28mprint\u001B[39m(\u001B[33m\"\u001B[39m\u001B[33mZIP file already exists, skipping download.\u001B[39m\u001B[33m\"\u001B[39m)\n",
      "\u001B[36mFile \u001B[39m\u001B[32m~/wizard/lib/python3.12/site-packages/gdown/download.py:278\u001B[39m, in \u001B[36mdownload\u001B[39m\u001B[34m(url, output, quiet, proxy, speed, use_cookies, verify, id, fuzzy, resume, format, user_agent, log_messages)\u001B[39m\n\u001B[32m    268\u001B[39m     \u001B[38;5;28;01mexcept\u001B[39;00m FileURLRetrievalError \u001B[38;5;28;01mas\u001B[39;00m e:\n\u001B[32m    269\u001B[39m         message = (\n\u001B[32m    270\u001B[39m             \u001B[33m\"\u001B[39m\u001B[33mFailed to retrieve file url:\u001B[39m\u001B[38;5;130;01m\\n\u001B[39;00m\u001B[38;5;130;01m\\n\u001B[39;00m\u001B[38;5;132;01m{}\u001B[39;00m\u001B[38;5;130;01m\\n\u001B[39;00m\u001B[38;5;130;01m\\n\u001B[39;00m\u001B[33m\"\u001B[39m\n\u001B[32m    271\u001B[39m             \u001B[33m\"\u001B[39m\u001B[33mYou may still be able to access the file from the browser:\u001B[39m\u001B[33m\"\u001B[39m\n\u001B[32m   (...)\u001B[39m\u001B[32m    276\u001B[39m             url_origin,\n\u001B[32m    277\u001B[39m         )\n\u001B[32m--> \u001B[39m\u001B[32m278\u001B[39m         \u001B[38;5;28;01mraise\u001B[39;00m FileURLRetrievalError(message)\n\u001B[32m    280\u001B[39m filename_from_url = \u001B[38;5;28;01mNone\u001B[39;00m\n\u001B[32m    281\u001B[39m last_modified_time = \u001B[38;5;28;01mNone\u001B[39;00m\n",
      "\u001B[31mFileURLRetrievalError\u001B[39m: Failed to retrieve file url:\n\n\tToo many users have viewed or downloaded this file recently. Please\n\ttry accessing the file again later. If the file you are trying to\n\taccess is particularly large or is shared with many people, it may\n\ttake up to 24 hours to be able to view or download the file. If you\n\tstill can't access a file after 24 hours, contact your domain\n\tadministrator.\n\nYou may still be able to access the file from the browser:\n\n\thttps://drive.google.com/uc?id=1a2oHjcEcwXP8oUF95qiwrqzACb2YlUhn\n\nbut Gdown can't. Please check connections and permissions."
     ]
    }
   ],
   "execution_count": 2
  },
  {
   "metadata": {
    "ExecuteTime": {
     "end_time": "2025-04-23T23:09:05.165246Z",
     "start_time": "2025-04-23T23:09:02.739246Z"
    }
   },
   "cell_type": "code",
   "source": [
    "file_id_val = \"1bxK5zgLn0_L8x276eKkuYA_FzwCIjb59\"\n",
    "output_zip_val = os.path.join(dataset_dir, \"VisDrone2019-DET-val.zip\")\n",
    "download_dataset(file_id_val, output_zip_val)"
   ],
   "id": "acdbceba7f826d58",
   "outputs": [
    {
     "name": "stdout",
     "output_type": "stream",
     "text": [
      "Downloading data/VisDrone2019-DET-val.zip...\n"
     ]
    },
    {
     "ename": "FileURLRetrievalError",
     "evalue": "Failed to retrieve file url:\n\n\tToo many users have viewed or downloaded this file recently. Please\n\ttry accessing the file again later. If the file you are trying to\n\taccess is particularly large or is shared with many people, it may\n\ttake up to 24 hours to be able to view or download the file. If you\n\tstill can't access a file after 24 hours, contact your domain\n\tadministrator.\n\nYou may still be able to access the file from the browser:\n\n\thttps://drive.google.com/uc?id=1bxK5zgLn0_L8x276eKkuYA_FzwCIjb59\n\nbut Gdown can't. Please check connections and permissions.",
     "output_type": "error",
     "traceback": [
      "\u001B[31m---------------------------------------------------------------------------\u001B[39m",
      "\u001B[31mFileURLRetrievalError\u001B[39m                     Traceback (most recent call last)",
      "\u001B[36mFile \u001B[39m\u001B[32m~/wizard/lib/python3.12/site-packages/gdown/download.py:267\u001B[39m, in \u001B[36mdownload\u001B[39m\u001B[34m(url, output, quiet, proxy, speed, use_cookies, verify, id, fuzzy, resume, format, user_agent, log_messages)\u001B[39m\n\u001B[32m    266\u001B[39m \u001B[38;5;28;01mtry\u001B[39;00m:\n\u001B[32m--> \u001B[39m\u001B[32m267\u001B[39m     url = \u001B[43mget_url_from_gdrive_confirmation\u001B[49m\u001B[43m(\u001B[49m\u001B[43mres\u001B[49m\u001B[43m.\u001B[49m\u001B[43mtext\u001B[49m\u001B[43m)\u001B[49m\n\u001B[32m    268\u001B[39m \u001B[38;5;28;01mexcept\u001B[39;00m FileURLRetrievalError \u001B[38;5;28;01mas\u001B[39;00m e:\n",
      "\u001B[36mFile \u001B[39m\u001B[32m~/wizard/lib/python3.12/site-packages/gdown/download.py:53\u001B[39m, in \u001B[36mget_url_from_gdrive_confirmation\u001B[39m\u001B[34m(contents)\u001B[39m\n\u001B[32m     52\u001B[39m         error = m.groups()[\u001B[32m0\u001B[39m]\n\u001B[32m---> \u001B[39m\u001B[32m53\u001B[39m         \u001B[38;5;28;01mraise\u001B[39;00m FileURLRetrievalError(error)\n\u001B[32m     54\u001B[39m \u001B[38;5;28;01mif\u001B[39;00m \u001B[38;5;129;01mnot\u001B[39;00m url:\n",
      "\u001B[31mFileURLRetrievalError\u001B[39m: Too many users have viewed or downloaded this file recently. Please try accessing the file again later. If the file you are trying to access is particularly large or is shared with many people, it may take up to 24 hours to be able to view or download the file. If you still can't access a file after 24 hours, contact your domain administrator.",
      "\nDuring handling of the above exception, another exception occurred:\n",
      "\u001B[31mFileURLRetrievalError\u001B[39m                     Traceback (most recent call last)",
      "\u001B[36mCell\u001B[39m\u001B[36m \u001B[39m\u001B[32mIn[3]\u001B[39m\u001B[32m, line 3\u001B[39m\n\u001B[32m      1\u001B[39m file_id_val = \u001B[33m\"\u001B[39m\u001B[33m1bxK5zgLn0_L8x276eKkuYA_FzwCIjb59\u001B[39m\u001B[33m\"\u001B[39m\n\u001B[32m      2\u001B[39m output_zip_val = os.path.join(dataset_dir, \u001B[33m\"\u001B[39m\u001B[33mVisDrone2019-DET-val.zip\u001B[39m\u001B[33m\"\u001B[39m)\n\u001B[32m----> \u001B[39m\u001B[32m3\u001B[39m \u001B[43mdownload_dataset\u001B[49m\u001B[43m(\u001B[49m\u001B[43mfile_id_val\u001B[49m\u001B[43m,\u001B[49m\u001B[43m \u001B[49m\u001B[43moutput_zip_val\u001B[49m\u001B[43m)\u001B[49m\n",
      "\u001B[36mCell\u001B[39m\u001B[36m \u001B[39m\u001B[32mIn[1]\u001B[39m\u001B[32m, line 11\u001B[39m, in \u001B[36mdownload_dataset\u001B[39m\u001B[34m(file_id, output_zip)\u001B[39m\n\u001B[32m      9\u001B[39m \u001B[38;5;28;01mif\u001B[39;00m \u001B[38;5;129;01mnot\u001B[39;00m os.path.exists(output_zip):\n\u001B[32m     10\u001B[39m     \u001B[38;5;28mprint\u001B[39m(\u001B[33mf\u001B[39m\u001B[33m\"\u001B[39m\u001B[33mDownloading \u001B[39m\u001B[38;5;132;01m{\u001B[39;00moutput_zip\u001B[38;5;132;01m}\u001B[39;00m\u001B[33m...\u001B[39m\u001B[33m\"\u001B[39m)\n\u001B[32m---> \u001B[39m\u001B[32m11\u001B[39m     \u001B[43mgdown\u001B[49m\u001B[43m.\u001B[49m\u001B[43mdownload\u001B[49m\u001B[43m(\u001B[49m\u001B[38;5;28;43mid\u001B[39;49m\u001B[43m=\u001B[49m\u001B[43mfile_id\u001B[49m\u001B[43m,\u001B[49m\u001B[43m \u001B[49m\u001B[43moutput\u001B[49m\u001B[43m=\u001B[49m\u001B[43moutput_zip\u001B[49m\u001B[43m,\u001B[49m\u001B[43m \u001B[49m\u001B[43mquiet\u001B[49m\u001B[43m=\u001B[49m\u001B[38;5;28;43;01mFalse\u001B[39;49;00m\u001B[43m)\u001B[49m\n\u001B[32m     12\u001B[39m \u001B[38;5;28;01melse\u001B[39;00m:\n\u001B[32m     13\u001B[39m     \u001B[38;5;28mprint\u001B[39m(\u001B[33m\"\u001B[39m\u001B[33mZIP file already exists, skipping download.\u001B[39m\u001B[33m\"\u001B[39m)\n",
      "\u001B[36mFile \u001B[39m\u001B[32m~/wizard/lib/python3.12/site-packages/gdown/download.py:278\u001B[39m, in \u001B[36mdownload\u001B[39m\u001B[34m(url, output, quiet, proxy, speed, use_cookies, verify, id, fuzzy, resume, format, user_agent, log_messages)\u001B[39m\n\u001B[32m    268\u001B[39m     \u001B[38;5;28;01mexcept\u001B[39;00m FileURLRetrievalError \u001B[38;5;28;01mas\u001B[39;00m e:\n\u001B[32m    269\u001B[39m         message = (\n\u001B[32m    270\u001B[39m             \u001B[33m\"\u001B[39m\u001B[33mFailed to retrieve file url:\u001B[39m\u001B[38;5;130;01m\\n\u001B[39;00m\u001B[38;5;130;01m\\n\u001B[39;00m\u001B[38;5;132;01m{}\u001B[39;00m\u001B[38;5;130;01m\\n\u001B[39;00m\u001B[38;5;130;01m\\n\u001B[39;00m\u001B[33m\"\u001B[39m\n\u001B[32m    271\u001B[39m             \u001B[33m\"\u001B[39m\u001B[33mYou may still be able to access the file from the browser:\u001B[39m\u001B[33m\"\u001B[39m\n\u001B[32m   (...)\u001B[39m\u001B[32m    276\u001B[39m             url_origin,\n\u001B[32m    277\u001B[39m         )\n\u001B[32m--> \u001B[39m\u001B[32m278\u001B[39m         \u001B[38;5;28;01mraise\u001B[39;00m FileURLRetrievalError(message)\n\u001B[32m    280\u001B[39m filename_from_url = \u001B[38;5;28;01mNone\u001B[39;00m\n\u001B[32m    281\u001B[39m last_modified_time = \u001B[38;5;28;01mNone\u001B[39;00m\n",
      "\u001B[31mFileURLRetrievalError\u001B[39m: Failed to retrieve file url:\n\n\tToo many users have viewed or downloaded this file recently. Please\n\ttry accessing the file again later. If the file you are trying to\n\taccess is particularly large or is shared with many people, it may\n\ttake up to 24 hours to be able to view or download the file. If you\n\tstill can't access a file after 24 hours, contact your domain\n\tadministrator.\n\nYou may still be able to access the file from the browser:\n\n\thttps://drive.google.com/uc?id=1bxK5zgLn0_L8x276eKkuYA_FzwCIjb59\n\nbut Gdown can't. Please check connections and permissions."
     ]
    }
   ],
   "execution_count": 3
  },
  {
   "metadata": {
    "ExecuteTime": {
     "end_time": "2025-04-23T23:09:13.587030Z",
     "start_time": "2025-04-23T23:09:11.206629Z"
    }
   },
   "cell_type": "code",
   "source": [
    "file_id_test = \"1PFdW_VFSCfZ_sTSZAGjQdifF_Xd5mf0V\"\n",
    "output_zip_test = os.path.join(dataset_dir, \"VisDrone2019-DET-test-dev.zip\")\n",
    "download_dataset(file_id_test, output_zip_test)"
   ],
   "id": "f59f164ebc945b89",
   "outputs": [
    {
     "name": "stdout",
     "output_type": "stream",
     "text": [
      "Downloading data/VisDrone2019-DET-test-dev.zip...\n"
     ]
    },
    {
     "ename": "FileURLRetrievalError",
     "evalue": "Failed to retrieve file url:\n\n\tToo many users have viewed or downloaded this file recently. Please\n\ttry accessing the file again later. If the file you are trying to\n\taccess is particularly large or is shared with many people, it may\n\ttake up to 24 hours to be able to view or download the file. If you\n\tstill can't access a file after 24 hours, contact your domain\n\tadministrator.\n\nYou may still be able to access the file from the browser:\n\n\thttps://drive.google.com/uc?id=1PFdW_VFSCfZ_sTSZAGjQdifF_Xd5mf0V\n\nbut Gdown can't. Please check connections and permissions.",
     "output_type": "error",
     "traceback": [
      "\u001B[31m---------------------------------------------------------------------------\u001B[39m",
      "\u001B[31mFileURLRetrievalError\u001B[39m                     Traceback (most recent call last)",
      "\u001B[36mFile \u001B[39m\u001B[32m~/wizard/lib/python3.12/site-packages/gdown/download.py:267\u001B[39m, in \u001B[36mdownload\u001B[39m\u001B[34m(url, output, quiet, proxy, speed, use_cookies, verify, id, fuzzy, resume, format, user_agent, log_messages)\u001B[39m\n\u001B[32m    266\u001B[39m \u001B[38;5;28;01mtry\u001B[39;00m:\n\u001B[32m--> \u001B[39m\u001B[32m267\u001B[39m     url = \u001B[43mget_url_from_gdrive_confirmation\u001B[49m\u001B[43m(\u001B[49m\u001B[43mres\u001B[49m\u001B[43m.\u001B[49m\u001B[43mtext\u001B[49m\u001B[43m)\u001B[49m\n\u001B[32m    268\u001B[39m \u001B[38;5;28;01mexcept\u001B[39;00m FileURLRetrievalError \u001B[38;5;28;01mas\u001B[39;00m e:\n",
      "\u001B[36mFile \u001B[39m\u001B[32m~/wizard/lib/python3.12/site-packages/gdown/download.py:53\u001B[39m, in \u001B[36mget_url_from_gdrive_confirmation\u001B[39m\u001B[34m(contents)\u001B[39m\n\u001B[32m     52\u001B[39m         error = m.groups()[\u001B[32m0\u001B[39m]\n\u001B[32m---> \u001B[39m\u001B[32m53\u001B[39m         \u001B[38;5;28;01mraise\u001B[39;00m FileURLRetrievalError(error)\n\u001B[32m     54\u001B[39m \u001B[38;5;28;01mif\u001B[39;00m \u001B[38;5;129;01mnot\u001B[39;00m url:\n",
      "\u001B[31mFileURLRetrievalError\u001B[39m: Too many users have viewed or downloaded this file recently. Please try accessing the file again later. If the file you are trying to access is particularly large or is shared with many people, it may take up to 24 hours to be able to view or download the file. If you still can't access a file after 24 hours, contact your domain administrator.",
      "\nDuring handling of the above exception, another exception occurred:\n",
      "\u001B[31mFileURLRetrievalError\u001B[39m                     Traceback (most recent call last)",
      "\u001B[36mCell\u001B[39m\u001B[36m \u001B[39m\u001B[32mIn[4]\u001B[39m\u001B[32m, line 3\u001B[39m\n\u001B[32m      1\u001B[39m file_id_test = \u001B[33m\"\u001B[39m\u001B[33m1PFdW_VFSCfZ_sTSZAGjQdifF_Xd5mf0V\u001B[39m\u001B[33m\"\u001B[39m\n\u001B[32m      2\u001B[39m output_zip_test = os.path.join(dataset_dir, \u001B[33m\"\u001B[39m\u001B[33mVisDrone2019-DET-test-dev.zip\u001B[39m\u001B[33m\"\u001B[39m)\n\u001B[32m----> \u001B[39m\u001B[32m3\u001B[39m \u001B[43mdownload_dataset\u001B[49m\u001B[43m(\u001B[49m\u001B[43mfile_id_test\u001B[49m\u001B[43m,\u001B[49m\u001B[43m \u001B[49m\u001B[43moutput_zip_test\u001B[49m\u001B[43m)\u001B[49m\n",
      "\u001B[36mCell\u001B[39m\u001B[36m \u001B[39m\u001B[32mIn[1]\u001B[39m\u001B[32m, line 11\u001B[39m, in \u001B[36mdownload_dataset\u001B[39m\u001B[34m(file_id, output_zip)\u001B[39m\n\u001B[32m      9\u001B[39m \u001B[38;5;28;01mif\u001B[39;00m \u001B[38;5;129;01mnot\u001B[39;00m os.path.exists(output_zip):\n\u001B[32m     10\u001B[39m     \u001B[38;5;28mprint\u001B[39m(\u001B[33mf\u001B[39m\u001B[33m\"\u001B[39m\u001B[33mDownloading \u001B[39m\u001B[38;5;132;01m{\u001B[39;00moutput_zip\u001B[38;5;132;01m}\u001B[39;00m\u001B[33m...\u001B[39m\u001B[33m\"\u001B[39m)\n\u001B[32m---> \u001B[39m\u001B[32m11\u001B[39m     \u001B[43mgdown\u001B[49m\u001B[43m.\u001B[49m\u001B[43mdownload\u001B[49m\u001B[43m(\u001B[49m\u001B[38;5;28;43mid\u001B[39;49m\u001B[43m=\u001B[49m\u001B[43mfile_id\u001B[49m\u001B[43m,\u001B[49m\u001B[43m \u001B[49m\u001B[43moutput\u001B[49m\u001B[43m=\u001B[49m\u001B[43moutput_zip\u001B[49m\u001B[43m,\u001B[49m\u001B[43m \u001B[49m\u001B[43mquiet\u001B[49m\u001B[43m=\u001B[49m\u001B[38;5;28;43;01mFalse\u001B[39;49;00m\u001B[43m)\u001B[49m\n\u001B[32m     12\u001B[39m \u001B[38;5;28;01melse\u001B[39;00m:\n\u001B[32m     13\u001B[39m     \u001B[38;5;28mprint\u001B[39m(\u001B[33m\"\u001B[39m\u001B[33mZIP file already exists, skipping download.\u001B[39m\u001B[33m\"\u001B[39m)\n",
      "\u001B[36mFile \u001B[39m\u001B[32m~/wizard/lib/python3.12/site-packages/gdown/download.py:278\u001B[39m, in \u001B[36mdownload\u001B[39m\u001B[34m(url, output, quiet, proxy, speed, use_cookies, verify, id, fuzzy, resume, format, user_agent, log_messages)\u001B[39m\n\u001B[32m    268\u001B[39m     \u001B[38;5;28;01mexcept\u001B[39;00m FileURLRetrievalError \u001B[38;5;28;01mas\u001B[39;00m e:\n\u001B[32m    269\u001B[39m         message = (\n\u001B[32m    270\u001B[39m             \u001B[33m\"\u001B[39m\u001B[33mFailed to retrieve file url:\u001B[39m\u001B[38;5;130;01m\\n\u001B[39;00m\u001B[38;5;130;01m\\n\u001B[39;00m\u001B[38;5;132;01m{}\u001B[39;00m\u001B[38;5;130;01m\\n\u001B[39;00m\u001B[38;5;130;01m\\n\u001B[39;00m\u001B[33m\"\u001B[39m\n\u001B[32m    271\u001B[39m             \u001B[33m\"\u001B[39m\u001B[33mYou may still be able to access the file from the browser:\u001B[39m\u001B[33m\"\u001B[39m\n\u001B[32m   (...)\u001B[39m\u001B[32m    276\u001B[39m             url_origin,\n\u001B[32m    277\u001B[39m         )\n\u001B[32m--> \u001B[39m\u001B[32m278\u001B[39m         \u001B[38;5;28;01mraise\u001B[39;00m FileURLRetrievalError(message)\n\u001B[32m    280\u001B[39m filename_from_url = \u001B[38;5;28;01mNone\u001B[39;00m\n\u001B[32m    281\u001B[39m last_modified_time = \u001B[38;5;28;01mNone\u001B[39;00m\n",
      "\u001B[31mFileURLRetrievalError\u001B[39m: Failed to retrieve file url:\n\n\tToo many users have viewed or downloaded this file recently. Please\n\ttry accessing the file again later. If the file you are trying to\n\taccess is particularly large or is shared with many people, it may\n\ttake up to 24 hours to be able to view or download the file. If you\n\tstill can't access a file after 24 hours, contact your domain\n\tadministrator.\n\nYou may still be able to access the file from the browser:\n\n\thttps://drive.google.com/uc?id=1PFdW_VFSCfZ_sTSZAGjQdifF_Xd5mf0V\n\nbut Gdown can't. Please check connections and permissions."
     ]
    }
   ],
   "execution_count": 4
  }
 ],
 "metadata": {
  "kernelspec": {
   "display_name": "Python 3",
   "language": "python",
   "name": "python3"
  },
  "language_info": {
   "codemirror_mode": {
    "name": "ipython",
    "version": 2
   },
   "file_extension": ".py",
   "mimetype": "text/x-python",
   "name": "python",
   "nbconvert_exporter": "python",
   "pygments_lexer": "ipython2",
   "version": "2.7.6"
  }
 },
 "nbformat": 4,
 "nbformat_minor": 5
}
