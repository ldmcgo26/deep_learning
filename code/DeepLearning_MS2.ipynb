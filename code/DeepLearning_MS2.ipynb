{
 "cells": [
  {
   "metadata": {},
   "cell_type": "markdown",
   "source": [
    "Please upload the following materials to the GitHub repository of your project work and submit the URL again:\n",
    "\n",
    "    Python code that downloads, prepares and loads the data (this was the task of Milestone 1, now you have only to adjust it to the other parts of your code)\n",
    "    Python code for the baseline model.\n",
    "    Python code that trains a deep learning model,\n",
    "    Python code that evaluates the results on a (separate) test set,\n",
    "    Updated README.MD file with instructions how to run the code.\n",
    "\n",
    "Please add as much comments to your code as much is needed to be able to easily understand it.\n",
    "\n",
    "At this stage, it is not required to have good (or even reasonable) results, the only requirement is to have the data loading-preparation-training-evaluation pipeline ready."
   ],
   "id": "c3f2ead7c38810b"
  },
  {
   "metadata": {},
   "cell_type": "code",
   "outputs": [],
   "execution_count": null,
   "source": "",
   "id": "d0e246f28ae6959a"
  }
 ],
 "metadata": {
  "kernelspec": {
   "display_name": "Python 3",
   "language": "python",
   "name": "python3"
  },
  "language_info": {
   "codemirror_mode": {
    "name": "ipython",
    "version": 2
   },
   "file_extension": ".py",
   "mimetype": "text/x-python",
   "name": "python",
   "nbconvert_exporter": "python",
   "pygments_lexer": "ipython2",
   "version": "2.7.6"
  }
 },
 "nbformat": 4,
 "nbformat_minor": 5
}
